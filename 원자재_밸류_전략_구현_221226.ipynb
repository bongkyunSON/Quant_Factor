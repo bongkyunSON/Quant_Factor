{
  "nbformat": 4,
  "nbformat_minor": 0,
  "metadata": {
    "colab": {
      "provenance": [],
      "include_colab_link": true
    },
    "kernelspec": {
      "name": "python3",
      "display_name": "Python 3"
    },
    "language_info": {
      "name": "python"
    }
  },
  "cells": [
    {
      "cell_type": "markdown",
      "metadata": {
        "id": "view-in-github",
        "colab_type": "text"
      },
      "source": [
        "<a href=\"https://colab.research.google.com/github/bongkyunSON/Quant_Factor/blob/main/%EC%9B%90%EC%9E%90%EC%9E%AC_%EB%B0%B8%EB%A5%98_%EC%A0%84%EB%9E%B5_%EA%B5%AC%ED%98%84_221226.ipynb\" target=\"_parent\"><img src=\"https://colab.research.google.com/assets/colab-badge.svg\" alt=\"Open In Colab\"/></a>"
      ]
    },
    {
      "cell_type": "code",
      "source": [
        "# 패키지 설치\n",
        "!pip install pickle5 --quiet"
      ],
      "metadata": {
        "id": "n7FT82qPfQHt",
        "colab": {
          "base_uri": "https://localhost:8080/"
        },
        "outputId": "1a7f1ad8-ad35-48f0-c203-6467e114123e"
      },
      "execution_count": 1,
      "outputs": [
        {
          "output_type": "stream",
          "name": "stdout",
          "text": [
            "\u001b[?25l\r\u001b[K     |██▌                             | 10 kB 26.6 MB/s eta 0:00:01\r\u001b[K     |█████                           | 20 kB 8.9 MB/s eta 0:00:01\r\u001b[K     |███████▍                        | 30 kB 12.3 MB/s eta 0:00:01\r\u001b[K     |██████████                      | 40 kB 4.7 MB/s eta 0:00:01\r\u001b[K     |████████████▍                   | 51 kB 5.0 MB/s eta 0:00:01\r\u001b[K     |██████████████▉                 | 61 kB 5.9 MB/s eta 0:00:01\r\u001b[K     |█████████████████▍              | 71 kB 5.7 MB/s eta 0:00:01\r\u001b[K     |███████████████████▉            | 81 kB 4.4 MB/s eta 0:00:01\r\u001b[K     |██████████████████████▎         | 92 kB 4.8 MB/s eta 0:00:01\r\u001b[K     |████████████████████████▉       | 102 kB 5.0 MB/s eta 0:00:01\r\u001b[K     |███████████████████████████▎    | 112 kB 5.0 MB/s eta 0:00:01\r\u001b[K     |█████████████████████████████▊  | 122 kB 5.0 MB/s eta 0:00:01\r\u001b[K     |████████████████████████████████| 132 kB 5.0 MB/s \n",
            "\u001b[?25h  Building wheel for pickle5 (setup.py) ... \u001b[?25l\u001b[?25hdone\n"
          ]
        }
      ]
    },
    {
      "cell_type": "code",
      "source": [
        "# 패키지 임포트\n",
        "import numpy as np\n",
        "import pandas as pd\n",
        "import matplotlib.pyplot as plt\n",
        "import seaborn as sns\n",
        "import pickle5 as pickle\n",
        "sns.set()"
      ],
      "metadata": {
        "id": "jsCSvODLf2If"
      },
      "execution_count": 2,
      "outputs": []
    },
    {
      "cell_type": "code",
      "source": [
        "# 데이터 로드\n",
        "# 가격 데이터\n",
        "with open('commodity_price.pkl', 'rb') as f:\n",
        "    price = pickle.load(f)\n",
        "\n",
        "# CFTC Hedge 롱포지션\n",
        "with open('long_pos.pkl', 'rb') as f:\n",
        "    long_pos = pickle.load(f)\n",
        "\n",
        "# CFTC Hedge 숏포지션\n",
        "with open('short_pos.pkl', 'rb') as f:\n",
        "    short_pos = pickle.load(f)\n",
        "\n",
        "# CFTC 전체 포지션\n",
        "with open('total_pos.pkl', 'rb') as f:\n",
        "    total_pos = pickle.load(f)"
      ],
      "metadata": {
        "id": "bo9uEQqnfhRp"
      },
      "execution_count": 3,
      "outputs": []
    },
    {
      "cell_type": "code",
      "execution_count": 4,
      "metadata": {
        "id": "y2X7TSwxtnyH"
      },
      "outputs": [],
      "source": [
        "# 원자재 밸류 팩터 전략 구현 클래스\n",
        "class CommodityValue:\n",
        "    \n",
        "    # 초기화 함수\n",
        "    def __init__(self, price, long_pos, short_pos, total_pos):\n",
        "        \n",
        "        # 가격 데이터\n",
        "        self.price = price\n",
        "        \n",
        "        # 포지션 데이터\n",
        "        # CFTC Hedger 롱포지션\n",
        "        self.long_pos = long_pos\n",
        "        \n",
        "        # CFTC Hedger 숏포지션\n",
        "        self.short_pos = short_pos\n",
        "        \n",
        "        # CFTC 전체포지션\n",
        "        self.total_pos = total_pos\n",
        "\n",
        "        # 롱숏 개수\n",
        "        self.n = int(len(self.price.columns) / 2)\n",
        "        \n",
        "        # 룩백 윈도우\n",
        "        self.lookback = 52\n",
        "        \n",
        "        # 투자 가중치\n",
        "        self.weights = self.calculate_weights(self.long_pos, self.short_pos, self.total_pos, self.lookback)\n",
        "        \n",
        "        # 거래비용\n",
        "        self.cost = 0.0005\n",
        "                \n",
        "        # 포트폴리오 자산별 수익률\n",
        "        self.port_rets = self.calculate_returns(self.price, self.weights, self.cost)\n",
        "        self.port_rets.dropna(inplace=True)\n",
        "        \n",
        "        # 샤프비율\n",
        "        self.sharpe_ratio = self.calculate_sharpe_ratio(self.port_rets)\n",
        "        \n",
        "        # 포트폴리오 백테스팅 결과 시각화\n",
        "        self.plot_port_returns(self.port_rets)\n",
        "    \n",
        "    # 투자 가중치 계산 함수\n",
        "    def calculate_weights(self, long_pos, short_pos, total_pos, lookback=52):\n",
        "        \n",
        "        # 롱숏 헤징 레인지\n",
        "        long_hedging = long_pos / total_pos\n",
        "        short_hedging = short_pos / total_pos\n",
        "\n",
        "        long_hedging_range = (long_hedging - long_hedging.rolling(lookback).min()) / (long_hedging.rolling(lookback).max() - long_hedging.rolling(lookback).min())\n",
        "        short_hedging_range = (short_hedging - short_hedging.rolling(lookback).min()) / (short_hedging.rolling(lookback).max() - short_hedging.rolling(lookback).min())\n",
        "                                \n",
        "        # 롱숏 랭크\n",
        "        long_rank = long_hedging_range.rank(axis=1)\n",
        "        short_rank = short_hedging_range.rank(axis=1)\n",
        "        \n",
        "        # 투자 가중치\n",
        "        long_weights = (long_rank > self.n) * (1/self.n)\n",
        "        short_weights = (short_rank > self.n) * -(1/self.n)\n",
        "        total_weights = long_weights + short_weights\n",
        "\n",
        "        return total_weights\n",
        "\n",
        "    # 수익률 계산\n",
        "    def calculate_returns(self, price, weights, cost):\n",
        "        \n",
        "        # 일별 수익률\n",
        "        rets = price.pct_change()\n",
        "\n",
        "        # 가중치\n",
        "        weights = weights.reindex_like(price)\n",
        "        weights.ffill(inplace=True)\n",
        "\n",
        "        # 포트폴리오 수익률\n",
        "        port_rets = (weights.shift() * rets - abs(weights.diff()) * cost)\n",
        "\n",
        "        return port_rets.sum(axis=1)\n",
        "    \n",
        "    # 샤프비율 계산\n",
        "    def calculate_sharpe_ratio(self, total_returns):\n",
        "        sharpe_ratio = total_returns.mean() * np.sqrt(252) / total_returns.std()\n",
        "        return sharpe_ratio\n",
        "    \n",
        "    # 백테스팅 결과 시각화\n",
        "    def plot_port_returns(self, rets):\n",
        "        plt.figure(figsize=(12, 6))\n",
        "        rets.cumsum().plot(label='port')\n",
        "        plt.show()"
      ]
    },
    {
      "cell_type": "code",
      "source": [
        "# 백테스팅 실행\n",
        "value = CommodityValue(price, long_pos, short_pos, total_pos)"
      ],
      "metadata": {
        "id": "Xjf51v23dq1Y",
        "colab": {
          "base_uri": "https://localhost:8080/",
          "height": 357
        },
        "outputId": "a3a6e8f9-249e-4637-828c-b9d727058ecd"
      },
      "execution_count": 5,
      "outputs": [
        {
          "output_type": "display_data",
          "data": {
            "text/plain": [
              "<Figure size 864x432 with 1 Axes>"
            ],
            "image/png": "[encoded data removed]"
          },
          "metadata": {}
        }
      ]
    },
    {
      "cell_type": "code",
      "source": [
        "value.sharpe_ratio"
      ],
      "metadata": {
        "id": "2CRZgFW7QSsb",
        "colab": {
          "base_uri": "https://localhost:8080/"
        },
        "outputId": "2b8cf855-0257-4da2-ba15-62ad645e55fa"
      },
      "execution_count": 6,
      "outputs": [
        {
          "output_type": "execute_result",
          "data": {
            "text/plain": [
              "1.1094498381317706"
            ]
          },
          "metadata": {},
          "execution_count": 6
        }
      ]
    },
    {
      "cell_type": "markdown",
      "source": [
        "Copyright 2022. 퀀트대디. All rights reserved."
      ],
      "metadata": {
        "id": "tqGBDszp01sd"
      }
    }
  ]
}